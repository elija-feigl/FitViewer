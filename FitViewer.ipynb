{
 "cells": [
  {
   "cell_type": "code",
   "execution_count": null,
   "metadata": {},
   "outputs": [],
   "source": [
    "import dnaFit\n",
    "import dnaFit.viewer.viewer as app\n",
    "from pathlib import Path"
   ]
  },
  {
   "cell_type": "markdown",
   "metadata": {},
   "source": [
    "# 1. Parse filepaths and create Viewer instance\n",
    "The viewer class contains both the data instances (design, map, model) and the selection functionality.\n",
    "On creating the linkage between these fit and design is computed. this step might require a couple of seconds, depending on the design size."
   ]
  },
  {
   "cell_type": "code",
   "execution_count": null,
   "metadata": {},
   "outputs": [],
   "source": [
    "# specify working directory and design name\n",
    "wd = \"/Users/name/data/\"\n",
    "name = \"design\"\n",
    "\n",
    "json = Path(wd +name + \".json\")         # caDNAno design file\n",
    "psf = Path(wd + name + \".psf\")          # coordinate or trajectory file\n",
    "coor = Path(wd + name + \"-last.pdb\")    # coordinate or trajectory file\n",
    "mrc = Path(wd + name + \".mrc\")          # cryo-EM map\n",
    "seq = Path(wd + name + \".seq\")          # scaffold sequence file\n"
   ]
  },
  {
   "cell_type": "code",
   "execution_count": null,
   "metadata": {},
   "outputs": [],
   "source": [
    "viewer = app.Viewer(conf=coor, top=psf, mrc=mrc, json=json, seq=seq, is_mrdna=True)\n"
   ]
  },
  {
   "cell_type": "markdown",
   "metadata": {},
   "source": [
    "# 2. Select subset of the atomic model\n",
    "the viewer class supports different selection options:\n",
    "* design-specific selection: subset specified by helix-id and base-position as in caDNAno designfile.\n",
    "    * using selection widget -> option A\n",
    "    * manual selection -> option B\n",
    "* fit-specific selection: subset directly by MDAnalysis atomselection functionalities\n",
    "    * example strand-specific selection: -> option C\n",
    "    \n",
    "    \n",
    "In the end, all selections are translated into a selection of atom, stored as an MDAnalysis AtomGroup.   \n"
   ]
  },
  {
   "cell_type": "markdown",
   "metadata": {},
   "source": [
    "### Option A: selection with widget \n",
    "\n",
    "#### NOTE: requires installed and activated ipywidgets\n",
    "\n",
    "selection: selected helices (clicked) are displayed in dark grey. the \"base\" slider selects the base-position range.\n",
    "context: slider for the area surrounding a selected atom for mrc-cropping (in Å)\n",
    "\n",
    "---\n",
    "\n",
    "the content of the widget is evaluated by executing\n",
    "\n",
    "``helixandbase, context = viewer.eval_sliders(*sliders)`` \n",
    "which returns a tuple containing two lists([helix-ids],[base_ids]) and the context value\n",
    "\n",
    "the list-tuple can be translated into an AtomGroup by executing:\n",
    "``atoms_selection, color_dict = viewer.select_by_helixandbase(*helixandbase)``\n",
    "\n",
    "the method returns the AtomGroup ``atoms_selection`` \n",
    "\n",
    "---\n",
    "\n",
    "(it also returns the dictionary ``color_dict`` containing information about staple coloring in the .json file, that can be used to color staples in the ngl_view widget)"
   ]
  },
  {
   "cell_type": "code",
   "execution_count": null,
   "metadata": {},
   "outputs": [],
   "source": [
    "sliders = viewer.select_widget()"
   ]
  },
  {
   "cell_type": "code",
   "execution_count": null,
   "metadata": {},
   "outputs": [],
   "source": [
    "helixandbase, context = viewer.eval_sliders(*sliders)\n",
    "atoms_selection, color_dict = viewer.select_by_helixandbase(*helixandbase)\n",
    "print(\"helix an dbase:\", helixandbase)\n",
    "print(\"number of selected bases:\", len(atoms_selection.residues))\n"
   ]
  },
  {
   "cell_type": "markdown",
   "metadata": {},
   "source": [
    "### Option B: manual selection\n",
    "``viewer.select_by_helixandbase(helices, base)`` can also be called directly using two lists, specifying the helix-ids and base positions.\n",
    "\n",
    "the method can also be applied to multiple subsets of the data, as MDAnalysis AtomGroups can be combined to realize more complex selections. (more details see option C)"
   ]
  },
  {
   "cell_type": "code",
   "execution_count": null,
   "metadata": {},
   "outputs": [],
   "source": [
    "## example Option B:\n",
    "helix_selection = [1,2,4,5]\n",
    "baseposition_selection = range(90,100)\n",
    "atoms_selection, color_dict = viewer.select_by_helixandbase(helix_selection, baseposition_selection)"
   ]
  },
  {
   "cell_type": "markdown",
   "metadata": {},
   "source": [
    "### Option C: Fit secific selection\n",
    "generate atomselection using mdAnalysis. \n",
    "the MDAnalysis baseclass is available via ``viewer.linker.fit.u``\n",
    "\n",
    "documentation:(https://www.mdanalysis.org/docs/documentation_pages/selections.html)\n",
    "\n",
    "NOTES:\n",
    "* AtomGroups are combinable using set-syntax (f.e. selection = selectionA + selectionB)\n",
    "* AtomGroups can be inverted by subtraction them from the full system accessible via .universe.atoms attribute. this is usefull for creating masks for multibody and local scanning refinement processes.\n",
    "* (design-specific staple coloring is not compatible with this option)"
   ]
  },
  {
   "cell_type": "code",
   "execution_count": null,
   "metadata": {},
   "outputs": [],
   "source": [
    "## example Option C: all double-stranded segments with staples beginning with the sequence ATCG\n",
    "\n",
    "\"\"\" either use MDanalysis directly to f.i.:\n",
    "        select all staples beginning with a specific sequence,\n",
    "        via the intersection of all staples with the correct base condition\n",
    "        start with all segments and filter with additional conditions\n",
    "\"\"\" \n",
    "ATCG = viewer.u.segments\n",
    "for idx, X in enumerate([\"ADE\", \"THY\", \"CYT\", \"GUA\"]):\n",
    "    ATCG = ATCG.segments & viewer.u.select_atoms(\"resname {} and resid {}\".format(X, idx+1)).segments\n",
    "atoms_staple  = ATCG.segments.atoms\n",
    "\n",
    "\"\"\" or use custom selection methods to f.i.:\n",
    "        pick all paired scaffold bases, while excluding Hydrogen atoms\n",
    "\"\"\"\n",
    "atoms_ds = viewer.select_ds_dna()\n",
    "atoms_sc = viewer.select_scaffold(atoms=atoms_ds)\n",
    "atoms_selection = viewer.select_without_H(atoms=atoms_sc)"
   ]
  },
  {
   "cell_type": "markdown",
   "metadata": {},
   "source": [
    "# 3. Cropping and Zoning \n",
    "the generated AtomGroup can be used for\n",
    "* generating a pdb of te subset represented by the AtomGroup\n",
    "* creating a new mrc-map that only contains data in the vicinity (context) of the selected atoms \n",
    "\n",
    "---\n",
    "create subset MRC-file\n",
    "\n",
    "``viewer.writemrc(atoms_selection, wd, name, [context=context, cut_box=True])``\n",
    "\n",
    "cut_box: if `True`, remove zero-padding from volume\n",
    "\n",
    "---\n",
    "\n",
    "create subset pdb-file (chimeraX compatible)\n",
    "\n",
    "``viewer.writepdb(atoms_selection, wd, name, [single_frame=True, frame=-1, chimeraX=True])``\n",
    "\n",
    "single_frame: if `False`, create multiframe pdb for full trajectory (multiframe can take a couple of minutes)\n",
    "\n",
    "frame: frame index to be saved, default -1 = last (only for .dcd file as coordinate-file)\\\n",
    "\n",
    "as_cif: if `True`, also create mmcif coordinate file."
   ]
  },
  {
   "cell_type": "code",
   "execution_count": null,
   "metadata": {},
   "outputs": [],
   "source": [
    "#choose output name\n",
    "name_out = \"subset_selection\""
   ]
  },
  {
   "cell_type": "code",
   "execution_count": null,
   "metadata": {},
   "outputs": [],
   "source": [
    "#create subset MRC-file\n",
    "viewer.write_mrc(atoms_selection, name_out, context=context, cut_box=False)"
   ]
  },
  {
   "cell_type": "code",
   "execution_count": null,
   "metadata": {},
   "outputs": [],
   "source": [
    "#create subset pdb-file (chimeraX compatible)\n",
    "viewer.write_pdb(atoms_selection, name_out, single_frame=True, frame=-1, as_cif=True)"
   ]
  }
 ],
 "metadata": {
  "kernelspec": {
   "display_name": "FitViewer",
   "language": "python",
   "name": "FitViewer"
  },
  "language_info": {
   "codemirror_mode": {
    "name": "ipython",
    "version": 3
   },
   "file_extension": ".py",
   "mimetype": "text/x-python",
   "name": "python",
   "nbconvert_exporter": "python",
   "pygments_lexer": "ipython3",
   "version": "3.8.10"
  }
 },
 "nbformat": 4,
 "nbformat_minor": 2
}
